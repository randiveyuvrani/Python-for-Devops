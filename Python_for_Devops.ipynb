{
  "nbformat": 4,
  "nbformat_minor": 0,
  "metadata": {
    "colab": {
      "provenance": [],
      "history_visible": true
    },
    "kernelspec": {
      "name": "python3",
      "display_name": "Python 3"
    },
    "language_info": {
      "name": "python"
    }
  },
  "cells": [
    {
      "cell_type": "code",
      "execution_count": 2,
      "metadata": {
        "colab": {
          "base_uri": "https://localhost:8080/"
        },
        "id": "vJJm8909BqYo",
        "outputId": "55fa2665-4974-4ce3-9ecf-05a1a750a83d"
      },
      "outputs": [
        {
          "output_type": "stream",
          "name": "stdout",
          "text": [
            "Enter your name:Yuvrani\n",
            "Hello Yuvrani\n",
            "Enter First Number: 20\n",
            "Enter Second Number: 10\n",
            "Sum of 2 numbers : 30\n",
            "Diff of 2 numbers : 10\n",
            "Product of 2 numbers : 200\n",
            "Division of 2 numbers : 2.0\n"
          ]
        }
      ],
      "source": [
        "#Python Masterclass\n",
        "\n",
        "name=input(\"Enter your name:\")  #User pasun input gheu shkte\n",
        "#variable which can vary\n",
        "env=\"Dev\" #Dev=Constant , env=variable\n",
        "print(\"Hello\",name)\n",
        "\n",
        "\n",
        "#Calculator\n",
        "\n",
        "num1=int(input(\"Enter First Number: \"))  #str -> int Type Casting\n",
        "num2=int(input(\"Enter Second Number: \"))\n",
        "\n",
        "\n",
        "sum_of_num = num1+num2\n",
        "print(\"Sum of 2 numbers :\",sum_of_num)\n",
        "\n",
        "diff_of_num =num1-num2\n",
        "print(\"Diff of 2 numbers :\",diff_of_num)\n",
        "\n",
        "product_of_num = num1*num2\n",
        "print(\"Product of 2 numbers :\",product_of_num)\n",
        "\n",
        "division_of_num =num1/num2\n",
        "print(\"Division of 2 numbers :\",division_of_num)"
      ]
    },
    {
      "cell_type": "code",
      "source": [
        "day_of_week = input(\"Enter the day of week: \").lower() #Convert lowercase\n",
        "print(day_of_week)\n",
        "\n",
        "if day_of_week == \"saturday\" or day_of_week == \"sunday\":\n",
        "    print(\"I will learn Live DevOps\")\n",
        "else:\n",
        "    print(\"I will practice DevOps\")\n"
      ],
      "metadata": {
        "colab": {
          "base_uri": "https://localhost:8080/"
        },
        "id": "HKJN0IbZINN6",
        "outputId": "c627eab5-2f1b-4759-cf63-36a9ec125da8"
      },
      "execution_count": 3,
      "outputs": [
        {
          "output_type": "stream",
          "name": "stdout",
          "text": [
            "Enter the day of week: sunday\n",
            "sunday\n",
            "I will learn Live DevOps\n"
          ]
        }
      ]
    },
    {
      "cell_type": "code",
      "source": [
        "num1=int(input(\"Enter First Number: \"))\n",
        "num2=int(input(\"Enter Second Number: \"))\n",
        "\n",
        "choice = input(\"Enter The Operation : (Option + , - , * , / , %)\")\n",
        "\n",
        "if choice ==\"+\":\n",
        "    sum_of_num = num1+num2\n",
        "    print(\"Addition :\",sum_of_num)\n",
        "elif choice ==\"-\":\n",
        "    diff_of_num =num1-num2\n",
        "    print(\"Substraction :\", diff_of_num)\n",
        "elif choice == \"*\":\n",
        "    product_of_num =num1*num2\n",
        "    print(\"Multition :\", product_of_num)\n",
        "elif choice ==\"/\":\n",
        "    divi_of_num =num1/num2\n",
        "    print(\"Divition :\", divi_of_num)\n",
        "elif choice ==\"%\":\n",
        "    remainder_of_num =num1%num2\n",
        "    print(\"Remainder :\", remainder_of_num)"
      ],
      "metadata": {
        "colab": {
          "base_uri": "https://localhost:8080/"
        },
        "id": "sOdxFgFPIRbn",
        "outputId": "b3120d39-c702-4ca9-d8bf-9672ddbd8c8d"
      },
      "execution_count": 5,
      "outputs": [
        {
          "output_type": "stream",
          "name": "stdout",
          "text": [
            "Enter First Number: 200\n",
            "Enter Second Number: 100\n",
            "Enter The Operation : (Option + , - , * , / , %)*\n",
            "Multition : 20000\n"
          ]
        }
      ]
    },
    {
      "cell_type": "code",
      "source": [
        "#loops\n",
        "\n",
        "#list -> Data structure which hold multiple values of multiple types\n",
        "\n",
        "#array ->Data structure which can hold multiple values of same type\n",
        "list_of_cloud = [\"aws\",\"azure\",\"gcp\",\"digital ocean\",\"utho\",\"alibaba\",\"oracle\"]\n",
        "cloud=\"gcp\" #variable\n",
        "\n",
        "print(list_of_cloud)\n",
        "\n",
        "#now I want to add new cloud ,for example salesforce\n",
        "\n",
        "list_of_cloud.append(\"Salesforce\")   #add to the end of list\n",
        "\n",
        "#now I want to add new cloud ,for example IBM\n",
        "\n",
        "list_of_cloud.append(\"IBM\")    #add to the end of list\n",
        "\n",
        "print(list_of_cloud)\n",
        "\n",
        "#to locate to particular position insert command is used\n",
        "\n",
        "list_of_cloud.insert(2,\"Heroku\")  #add to the particular position(index) as 1st or 2nd index of list\n",
        "\n",
        "print(list_of_cloud)\n",
        "\n",
        "# To show how many lengths\n",
        "\n",
        "print(len(list_of_cloud))\n",
        "\n",
        "#Iteration of list\n",
        "\n",
        "for cloud in list_of_cloud:    #To iterate (display) one by one\n",
        "    print(cloud)\n",
        "\n",
        "\n",
        "for i in range(0,11):\n",
        "    print(i)"
      ],
      "metadata": {
        "colab": {
          "base_uri": "https://localhost:8080/"
        },
        "id": "TNjPPCnyTDUn",
        "outputId": "9e2affe8-595e-4113-cecc-360754f3b16c"
      },
      "execution_count": 10,
      "outputs": [
        {
          "output_type": "stream",
          "name": "stdout",
          "text": [
            "['aws', 'azure', 'gcp', 'digital ocean', 'utho', 'alibaba', 'oracle']\n",
            "['aws', 'azure', 'gcp', 'digital ocean', 'utho', 'alibaba', 'oracle', 'Salesforce', 'IBM']\n",
            "['aws', 'azure', 'Heroku', 'gcp', 'digital ocean', 'utho', 'alibaba', 'oracle', 'Salesforce', 'IBM']\n",
            "10\n"
          ]
        }
      ]
    },
    {
      "cell_type": "code",
      "source": [
        "## Utils ##\n",
        "\n",
        "import os #Importing a new library into your code and os.system print what will given in later\n",
        "\n",
        "\n",
        "print(os.system('diskmgmt.msc'))\n",
        "print(os.system('systeminfo'))\n",
        "print(os.system('memorychip'))"
      ],
      "metadata": {
        "colab": {
          "base_uri": "https://localhost:8080/"
        },
        "id": "ef-4h7zoZjfK",
        "outputId": "9b7c8943-06b2-461b-d00d-f15518df5605"
      },
      "execution_count": 13,
      "outputs": [
        {
          "output_type": "stream",
          "name": "stdout",
          "text": [
            "32512\n",
            "32512\n",
            "32512\n"
          ]
        }
      ]
    }
  ]
}